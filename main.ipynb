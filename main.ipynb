{
 "cells": [
  {
   "cell_type": "code",
   "execution_count": 35,
   "metadata": {},
   "outputs": [
    {
     "name": "stdout",
     "output_type": "stream",
     "text": [
      "x=2 r = 2\n",
      "x=2 r = 2\n",
      "x=2 r = 2\n",
      "x=2 r = 2\n",
      "x=2 r = 2\n",
      "50\n",
      "x=2 r = 2\n",
      "x=2 r = 2\n",
      "x=2 r = 2\n",
      "x=2 r = 2\n",
      "x=2 r = 1\n",
      "0\n"
     ]
    }
   ],
   "source": [
    "# dices = ((1,2),(2,2),(3,4)(4,5),(5,1))\n",
    "\n",
    "# def is_brelan(dicesFigure: list):\n",
    "#         for r in dices\n",
    "#               return 18\n",
    "#         return 0\n",
    "     \n",
    "# resultat = is_brelan([(1, 2), (2, 2), (3, 2), (4, 5), (5, 1)])\n",
    "# print(\"Le brelan est présent :\", resultat)\n",
    "\n",
    "# def calcul_result(dices: list):\n",
    "#     match list\n",
    "\n",
    "def is_yams(dices: list):\n",
    "    x=dices[0][1]\n",
    "    for r in dices:\n",
    "        print(f\"x={x} r = {r[1]}\")\n",
    "        if r[1] != x:\n",
    "            return 0\n",
    "        else: \n",
    "            x=r[1]\n",
    "    return 50         \n",
    "\n",
    "    \n",
    "dices_test1 = [(1, 2), (2, 2), (3, 2), (4, 2), (5, 2)]\n",
    "\n",
    "result_yams = is_yams(dices_test1)\n",
    "\n",
    "print(result_yams)\n",
    "\n",
    "dices_test2 = [(1, 2), (2, 2), (3, 2), (4, 2), (5, 1)]\n",
    "\n",
    "result_y = is_yams(dices_test2)\n",
    "\n",
    "print(result_y)\n",
    "\n",
    "\n",
    "\n",
    "\n"
   ]
  },
  {
   "cell_type": "code",
   "execution_count": null,
   "metadata": {},
   "outputs": [],
   "source": []
  }
 ],
 "metadata": {
  "kernelspec": {
   "display_name": "base",
   "language": "python",
   "name": "python3"
  },
  "language_info": {
   "codemirror_mode": {
    "name": "ipython",
    "version": 3
   },
   "file_extension": ".py",
   "mimetype": "text/x-python",
   "name": "python",
   "nbconvert_exporter": "python",
   "pygments_lexer": "ipython3",
   "version": "3.11.5"
  }
 },
 "nbformat": 4,
 "nbformat_minor": 2
}
